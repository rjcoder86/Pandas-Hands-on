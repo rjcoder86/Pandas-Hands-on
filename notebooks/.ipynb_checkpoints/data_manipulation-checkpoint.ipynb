{
 "cells": [
  {
   "cell_type": "code",
   "execution_count": 1,
   "id": "2b5e788c-6ee8-4f8c-8a9a-69773ed12175",
   "metadata": {},
   "outputs": [],
   "source": [
    "import pandas as pd"
   ]
  },
  {
   "cell_type": "code",
   "execution_count": 2,
   "id": "b9853724-7023-408e-baef-2535cc1c5179",
   "metadata": {},
   "outputs": [],
   "source": [
    "def load_data(file_path):\n",
    "    return pd.read_csv(file_path)"
   ]
  },
  {
   "cell_type": "code",
   "execution_count": 3,
   "id": "260411d4-8fb7-4250-8fcd-75e1cfcb15f4",
   "metadata": {},
   "outputs": [],
   "source": [
    "def clean_data(df):\n",
    "    # Check for missing values\n",
    "    print(\"\\nMissing values in each column:\")\n",
    "    print(df.isnull().sum())\n",
    "\n",
    "    # Data Types\n",
    "    print(\"\\nData types of each column:\")\n",
    "    print(df.dtypes)\n",
    "\n",
    "    return df"
   ]
  },
  {
   "cell_type": "code",
   "execution_count": 4,
   "id": "03895d57-0239-41d3-8730-e26ae45ed608",
   "metadata": {},
   "outputs": [],
   "source": [
    "def aggregate_data(df):\n",
    "    # Total sales per branch\n",
    "    total_sales_per_branch = df.groupby('Branch')['Total'].sum().reset_index()\n",
    "    print(\"\\nTotal sales per branch:\")\n",
    "    print(total_sales_per_branch)\n",
    "\n",
    "    # Average rating per product line\n",
    "    average_rating_per_product_line = df.groupby('Product line')['Rating'].mean().reset_index()\n",
    "    print(\"\\nAverage rating per product line:\")\n",
    "    print(average_rating_per_product_line)\n",
    "\n",
    "    return total_sales_per_branch, average_rating_per_product_line"
   ]
  },
  {
   "cell_type": "code",
   "execution_count": 7,
   "id": "3dfb7e1e-d852-4432-a254-ea1313d8b7f0",
   "metadata": {},
   "outputs": [],
   "source": [
    "def filter_data(df):\n",
    "    # Filter transactions with sales above 100\n",
    "    high_sales = df[df['Total'] > 100]\n",
    "    print(\"\\nTransactions with sales above 100:\")\n",
    "    print(high_sales)\n",
    "\n",
    "    # Filter transactions in city 'Yangon'\n",
    "    yangon_sales = df[df['City'] == 'Yangon']\n",
    "    print(\"\\nTransactions in Yangon:\")\n",
    "    print(yangon_sales)\n",
    "\n",
    "    return high_sales, yangon_sales"
   ]
  },
  {
   "cell_type": "code",
   "execution_count": 11,
   "id": "1ed42588-efe0-4b71-93fc-bee81b4a3170",
   "metadata": {},
   "outputs": [],
   "source": [
    "import matplotlib.pyplot as plt\n",
    "import seaborn as sns"
   ]
  },
  {
   "cell_type": "code",
   "execution_count": 12,
   "id": "04a38c68-4287-4bd3-8880-007bd77448a9",
   "metadata": {},
   "outputs": [],
   "source": [
    "def visualize_data(total_sales_per_branch, average_rating_per_product_line, df):\n",
    "    # Total sales per branch bar plot\n",
    "    plt.figure(figsize=(8, 5))\n",
    "    sns.barplot(data=total_sales_per_branch, x='Branch', y='Total')\n",
    "    plt.title('Total Sales per Branch')\n",
    "    plt.show()\n",
    "\n",
    "    # Average rating per product line bar plot\n",
    "    plt.figure(figsize=(10, 6))\n",
    "    sns.barplot(data=average_rating_per_product_line, x='Rating', y='Product line')\n",
    "    plt.title('Average Rating per Product Line')\n",
    "    plt.show()\n",
    "\n",
    "    # Sales distribution histogram\n",
    "    plt.figure(figsize=(10, 6))\n",
    "    sns.histplot(df['Total'], bins=30, kde=True)\n",
    "    plt.title('Sales Distribution')\n",
    "    plt.xlabel('Total Sales')\n",
    "    plt.ylabel('Frequency')\n",
    "    plt.show()\n"
   ]
  },
  {
   "cell_type": "code",
   "execution_count": 16,
   "id": "806dc0f0-15df-47f5-aa91-65ac4559259b",
   "metadata": {},
   "outputs": [],
   "source": [
    "df = load_data('../data/supermarket_sales.csv')"
   ]
  },
  {
   "cell_type": "code",
   "execution_count": 18,
   "id": "70403fde-7458-47bc-bef7-ca9ae71bdbfa",
   "metadata": {},
   "outputs": [
    {
     "name": "stdout",
     "output_type": "stream",
     "text": [
      "First few rows of the dataset:\n",
      "    Invoice ID Branch       City Customer type  Gender  \\\n",
      "0  750-67-8428      A     Yangon        Member  Female   \n",
      "1  226-31-3081      C  Naypyitaw        Normal  Female   \n",
      "2  631-41-3108      A     Yangon        Normal    Male   \n",
      "3  123-19-1176      A     Yangon        Member    Male   \n",
      "4  373-73-7910      A     Yangon        Normal    Male   \n",
      "\n",
      "             Product line  Unit price  Quantity   Tax 5%     Total       Date  \\\n",
      "0       Health and beauty       74.69         7  26.1415  548.9715   1/5/2019   \n",
      "1  Electronic accessories       15.28         5   3.8200   80.2200   3/8/2019   \n",
      "2      Home and lifestyle       46.33         7  16.2155  340.5255   3/3/2019   \n",
      "3       Health and beauty       58.22         8  23.2880  489.0480  1/27/2019   \n",
      "4       Sports and travel       86.31         7  30.2085  634.3785   2/8/2019   \n",
      "\n",
      "    Time      Payment    cogs  gross margin percentage  gross income  Rating  \n",
      "0  13:08      Ewallet  522.83                 4.761905       26.1415     9.1  \n",
      "1  10:29         Cash   76.40                 4.761905        3.8200     9.6  \n",
      "2  13:23  Credit card  324.31                 4.761905       16.2155     7.4  \n",
      "3  20:33      Ewallet  465.76                 4.761905       23.2880     8.4  \n",
      "4  10:37      Ewallet  604.17                 4.761905       30.2085     5.3  \n"
     ]
    }
   ],
   "source": [
    "print(\"First few rows of the dataset:\")\n",
    "print(df.head())"
   ]
  },
  {
   "cell_type": "code",
   "execution_count": null,
   "id": "e7a301d9-bfb0-4e3b-91ed-267b25930692",
   "metadata": {},
   "outputs": [],
   "source": []
  }
 ],
 "metadata": {
  "kernelspec": {
   "display_name": "Python 3 (ipykernel)",
   "language": "python",
   "name": "python3"
  },
  "language_info": {
   "codemirror_mode": {
    "name": "ipython",
    "version": 3
   },
   "file_extension": ".py",
   "mimetype": "text/x-python",
   "name": "python",
   "nbconvert_exporter": "python",
   "pygments_lexer": "ipython3",
   "version": "3.11.2"
  }
 },
 "nbformat": 4,
 "nbformat_minor": 5
}
